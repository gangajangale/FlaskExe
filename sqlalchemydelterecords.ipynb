{
  "nbformat": 4,
  "nbformat_minor": 0,
  "metadata": {
    "colab": {
      "name": "Untitled0.ipynb",
      "provenance": [],
      "collapsed_sections": [],
      "authorship_tag": "ABX9TyNgNlYW/voxh+5ssJU0KEDU",
      "include_colab_link": true
    },
    "kernelspec": {
      "name": "python3",
      "display_name": "Python 3"
    },
    "language_info": {
      "name": "python"
    }
  },
  "cells": [
    {
      "cell_type": "markdown",
      "metadata": {
        "id": "view-in-github",
        "colab_type": "text"
      },
      "source": [
        "<a href=\"https://colab.research.google.com/github/gangajangale/FlaskExe/blob/main/sqlalchemydelterecords.ipynb\" target=\"_parent\"><img src=\"https://colab.research.google.com/assets/colab-badge.svg\" alt=\"Open In Colab\"/></a>"
      ]
    },
    {
      "cell_type": "code",
      "execution_count": 15,
      "metadata": {
        "colab": {
          "base_uri": "https://localhost:8080/"
        },
        "id": "_KZrwnvFsLL0",
        "outputId": "d0e7d8d3-9403-4c46-f50e-c276a71768a0"
      },
      "outputs": [
        {
          "output_type": "stream",
          "name": "stdout",
          "text": [
            "2022-02-28 10:30:27,180 INFO sqlalchemy.engine.Engine SELECT students1.id, students1.name, students1.lastname \n",
            "FROM students1\n",
            "2022-02-28 10:30:27,183 INFO sqlalchemy.engine.Engine [generated in 0.00260s] ()\n",
            "2022-02-28 10:30:27,186 INFO sqlalchemy.engine.Engine SELECT students1.id, students1.name, students1.lastname \n",
            "FROM students1\n",
            "2022-02-28 10:30:27,188 INFO sqlalchemy.engine.Engine [cached since 0.007675s ago] ()\n"
          ]
        },
        {
          "output_type": "execute_result",
          "data": {
            "text/plain": [
              "[]"
            ]
          },
          "metadata": {},
          "execution_count": 15
        },
        {
          "output_type": "stream",
          "name": "stderr",
          "text": [
            "Exception during reset or similar\n",
            "Traceback (most recent call last):\n",
            "  File \"/usr/local/lib/python3.7/dist-packages/sqlalchemy/pool/base.py\", line 739, in _finalize_fairy\n",
            "    fairy._reset(pool)\n",
            "  File \"/usr/local/lib/python3.7/dist-packages/sqlalchemy/pool/base.py\", line 988, in _reset\n",
            "    pool._dialect.do_rollback(self)\n",
            "  File \"/usr/local/lib/python3.7/dist-packages/sqlalchemy/engine/default.py\", line 682, in do_rollback\n",
            "    dbapi_connection.rollback()\n",
            "sqlite3.ProgrammingError: SQLite objects created in a thread can only be used in that same thread. The object was created in thread id 140442137102208 and this is thread id 140441587754752.\n",
            "Exception closing connection <sqlite3.Connection object at 0x7fbb19de28f0>\n",
            "Traceback (most recent call last):\n",
            "  File \"/usr/local/lib/python3.7/dist-packages/sqlalchemy/pool/base.py\", line 739, in _finalize_fairy\n",
            "    fairy._reset(pool)\n",
            "  File \"/usr/local/lib/python3.7/dist-packages/sqlalchemy/pool/base.py\", line 988, in _reset\n",
            "    pool._dialect.do_rollback(self)\n",
            "  File \"/usr/local/lib/python3.7/dist-packages/sqlalchemy/engine/default.py\", line 682, in do_rollback\n",
            "    dbapi_connection.rollback()\n",
            "sqlite3.ProgrammingError: SQLite objects created in a thread can only be used in that same thread. The object was created in thread id 140442137102208 and this is thread id 140441587754752.\n",
            "\n",
            "During handling of the above exception, another exception occurred:\n",
            "\n",
            "Traceback (most recent call last):\n",
            "  File \"/usr/local/lib/python3.7/dist-packages/sqlalchemy/pool/base.py\", line 247, in _close_connection\n",
            "    self._dialect.do_close(connection)\n",
            "  File \"/usr/local/lib/python3.7/dist-packages/sqlalchemy/engine/default.py\", line 688, in do_close\n",
            "    dbapi_connection.close()\n",
            "sqlite3.ProgrammingError: SQLite objects created in a thread can only be used in that same thread. The object was created in thread id 140442137102208 and this is thread id 140441587754752.\n"
          ]
        }
      ],
      "source": [
        "from sqlalchemy.sql.expression import update\n",
        "from sqlalchemy import create_engine, MetaData, Table, Column, Integer, String\n",
        "engine = create_engine('sqlite:///college.db', echo = True)\n",
        "\n",
        "meta = MetaData()\n",
        "\n",
        "students = Table(\n",
        "   'students', meta, \n",
        "   Column('id', Integer, primary_key = True), \n",
        "   Column('name', String), \n",
        "   Column('lastname', String), \n",
        ")\n",
        "\n",
        "conn = engine.connect()\n",
        "stmt = students.delete().where(students.c.lastname == 'Khanna')\n",
        "conn.execute(stmt)\n",
        "s = students.select()\n",
        "conn.execute(s).fetchall()"
      ]
    }
  ]
}