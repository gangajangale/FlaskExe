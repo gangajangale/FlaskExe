{
  "nbformat": 4,
  "nbformat_minor": 0,
  "metadata": {
    "colab": {
      "name": "Untitled0.ipynb",
      "provenance": [],
      "collapsed_sections": [],
      "authorship_tag": "ABX9TyP0vUGQJbXQaKZZBZtaWqni",
      "include_colab_link": true
    },
    "kernelspec": {
      "name": "python3",
      "display_name": "Python 3"
    },
    "language_info": {
      "name": "python"
    }
  },
  "cells": [
    {
      "cell_type": "markdown",
      "metadata": {
        "id": "view-in-github",
        "colab_type": "text"
      },
      "source": [
        "<a href=\"https://colab.research.google.com/github/gangajangale/FlaskExe/blob/main/sqlalchemyInsertDataInTable.ipynb\" target=\"_parent\"><img src=\"https://colab.research.google.com/assets/colab-badge.svg\" alt=\"Open In Colab\"/></a>"
      ]
    },
    {
      "cell_type": "code",
      "execution_count": 7,
      "metadata": {
        "colab": {
          "base_uri": "https://localhost:8080/"
        },
        "id": "_KZrwnvFsLL0",
        "outputId": "74ae5341-f150-4eab-83a7-efb15827dfc1"
      },
      "outputs": [
        {
          "output_type": "stream",
          "name": "stdout",
          "text": [
            "2022-02-28 09:45:42,498 INFO sqlalchemy.engine.Engine INSERT INTO students (name, lastname) VALUES (?, ?)\n",
            "2022-02-28 09:45:42,499 INFO sqlalchemy.engine.Engine [generated in 0.00188s] ('Ravi', 'Kapoor')\n",
            "2022-02-28 09:45:42,503 INFO sqlalchemy.engine.Engine COMMIT\n"
          ]
        }
      ],
      "source": [
        "from sqlalchemy import create_engine, MetaData, Table, Column, Integer, String\n",
        "engine = create_engine('sqlite:///college.db', echo = True)\n",
        "meta = MetaData()\n",
        "\n",
        "students = Table(\n",
        "   'students', meta, \n",
        "   Column('id', Integer, primary_key = True), \n",
        "   Column('name', String), \n",
        "   Column('lastname', String), \n",
        ")\n",
        "\n",
        "ins = students.insert()\n",
        "ins = students.insert().values(name = 'Ravi', lastname = 'Kapoor')\n",
        "conn = engine.connect()\n",
        "result = conn.execute(ins)"
      ]
    }
  ]
}