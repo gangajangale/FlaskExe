{
  "nbformat": 4,
  "nbformat_minor": 0,
  "metadata": {
    "colab": {
      "name": "Untitled0.ipynb",
      "provenance": [],
      "collapsed_sections": [],
      "authorship_tag": "ABX9TyME4l0rzxuSy6qK1xQ+XRFS",
      "include_colab_link": true
    },
    "kernelspec": {
      "name": "python3",
      "display_name": "Python 3"
    },
    "language_info": {
      "name": "python"
    }
  },
  "cells": [
    {
      "cell_type": "markdown",
      "metadata": {
        "id": "view-in-github",
        "colab_type": "text"
      },
      "source": [
        "<a href=\"https://colab.research.google.com/github/gangajangale/FlaskExe/blob/main/SqlalchemycreateTable.ipynb\" target=\"_parent\"><img src=\"https://colab.research.google.com/assets/colab-badge.svg\" alt=\"Open In Colab\"/></a>"
      ]
    },
    {
      "cell_type": "code",
      "execution_count": 6,
      "metadata": {
        "colab": {
          "base_uri": "https://localhost:8080/"
        },
        "id": "_KZrwnvFsLL0",
        "outputId": "f9fe5fbb-816b-4298-e76b-518162ef8e52"
      },
      "outputs": [
        {
          "output_type": "stream",
          "name": "stdout",
          "text": [
            "Engine(sqlite:///college.db)\n",
            "MetaData()\n",
            "2022-02-28 09:40:49,829 INFO sqlalchemy.engine.Engine BEGIN (implicit)\n",
            "2022-02-28 09:40:49,831 INFO sqlalchemy.engine.Engine PRAGMA main.table_info(\"students1\")\n",
            "2022-02-28 09:40:49,833 INFO sqlalchemy.engine.Engine [raw sql] ()\n",
            "2022-02-28 09:40:49,836 INFO sqlalchemy.engine.Engine PRAGMA temp.table_info(\"students1\")\n",
            "2022-02-28 09:40:49,838 INFO sqlalchemy.engine.Engine [raw sql] ()\n",
            "2022-02-28 09:40:49,841 INFO sqlalchemy.engine.Engine \n",
            "CREATE TABLE students1 (\n",
            "\tid INTEGER NOT NULL, \n",
            "\tname VARCHAR, \n",
            "\tlastname VARCHAR, \n",
            "\tPRIMARY KEY (id)\n",
            ")\n",
            "\n",
            "\n",
            "2022-02-28 09:40:49,842 INFO sqlalchemy.engine.Engine [no key 0.00124s] ()\n",
            "2022-02-28 09:40:49,857 INFO sqlalchemy.engine.Engine COMMIT\n",
            "students1\n"
          ]
        }
      ],
      "source": [
        "from sqlalchemy import create_engine, MetaData, Table, Column, Integer, String\n",
        "engine = create_engine('sqlite:///college.db', echo = True)\n",
        "print(engine)\n",
        "meta = MetaData()\n",
        "print(meta)\n",
        "students = Table(\n",
        "   'students1', meta, \n",
        "   Column('id', Integer, primary_key = True), \n",
        "   Column('name', String), \n",
        "   Column('lastname', String),\n",
        ")\n",
        "meta.create_all(engine)\n",
        "print(students)"
      ]
    }
  ]
}