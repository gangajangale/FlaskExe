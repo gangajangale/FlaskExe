{
  "nbformat": 4,
  "nbformat_minor": 0,
  "metadata": {
    "colab": {
      "name": "Untitled0.ipynb",
      "provenance": [],
      "collapsed_sections": [],
      "authorship_tag": "ABX9TyPVtZzdWMmD/RbxCvKw0Ppz",
      "include_colab_link": true
    },
    "kernelspec": {
      "name": "python3",
      "display_name": "Python 3"
    },
    "language_info": {
      "name": "python"
    }
  },
  "cells": [
    {
      "cell_type": "markdown",
      "metadata": {
        "id": "view-in-github",
        "colab_type": "text"
      },
      "source": [
        "<a href=\"https://colab.research.google.com/github/gangajangale/FlaskExe/blob/main/addrecordsclassalachemy.ipynb\" target=\"_parent\"><img src=\"https://colab.research.google.com/assets/colab-badge.svg\" alt=\"Open In Colab\"/></a>"
      ]
    },
    {
      "cell_type": "code",
      "execution_count": 17,
      "metadata": {
        "colab": {
          "base_uri": "https://localhost:8080/"
        },
        "id": "_KZrwnvFsLL0",
        "outputId": "16144513-2036-4489-90ed-a606da5d97f9"
      },
      "outputs": [
        {
          "output_type": "stream",
          "name": "stdout",
          "text": [
            "2022-02-28 10:47:41,848 INFO sqlalchemy.engine.Engine BEGIN (implicit)\n",
            "2022-02-28 10:47:41,858 INFO sqlalchemy.engine.Engine INSERT INTO customers (name, address, email) VALUES (?, ?, ?)\n",
            "2022-02-28 10:47:41,861 INFO sqlalchemy.engine.Engine [generated in 0.00306s] ('Ravi Kumar', 'Station Road Nanded', 'ravi@gmail.com')\n",
            "2022-02-28 10:47:41,866 INFO sqlalchemy.engine.Engine COMMIT\n"
          ]
        }
      ],
      "source": [
        "from sqlalchemy import Column, Integer, String\n",
        "from sqlalchemy import create_engine\n",
        "engine = create_engine('sqlite:///sales.db', echo = True)\n",
        "from sqlalchemy.ext.declarative import declarative_base\n",
        "Base = declarative_base()\n",
        "\n",
        "class Customers(Base):\n",
        "   __tablename__ = 'customers'\n",
        "   \n",
        "   id = Column(Integer, primary_key=True)\n",
        "   name = Column(String)\n",
        "   address = Column(String)\n",
        "   email = Column(String)\n",
        "   \n",
        "from sqlalchemy.orm import sessionmaker\n",
        "Session = sessionmaker(bind = engine)\n",
        "session = Session()\n",
        "\n",
        "c1 = Customers(name = 'Ravi Kumar', address = 'Station Road Nanded', email = 'ravi@gmail.com')\n",
        "\n",
        "session.add(c1)\n",
        "session.commit()\n",
        "\n",
        "\"\"\"To add multiple records, we can use add_all() method of the session class.\n",
        "\n",
        "session.add_all([\n",
        "   Customers(name = 'Komal Pande', address = 'Koti, Hyderabad', email = 'komal@gmail.com'), \n",
        "   Customers(name = 'Rajender Nath', address = 'Sector 40, Gurgaon', email = 'nath@gmail.com'), \n",
        "   Customers(name = 'S.M.Krishna', address = 'Budhwar Peth, Pune', email = 'smk@gmail.com')]\n",
        ")\n",
        "\n",
        "session.commit()\"\"\""
      ]
    }
  ]
}