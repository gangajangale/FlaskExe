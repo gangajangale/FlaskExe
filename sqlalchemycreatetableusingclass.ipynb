{
  "nbformat": 4,
  "nbformat_minor": 0,
  "metadata": {
    "colab": {
      "name": "Untitled0.ipynb",
      "provenance": [],
      "collapsed_sections": [],
      "authorship_tag": "ABX9TyNRrLDcFM1/aXEvPNAFouVc",
      "include_colab_link": true
    },
    "kernelspec": {
      "name": "python3",
      "display_name": "Python 3"
    },
    "language_info": {
      "name": "python"
    }
  },
  "cells": [
    {
      "cell_type": "markdown",
      "metadata": {
        "id": "view-in-github",
        "colab_type": "text"
      },
      "source": [
        "<a href=\"https://colab.research.google.com/github/gangajangale/FlaskExe/blob/main/sqlalchemycreatetableusingclass.ipynb\" target=\"_parent\"><img src=\"https://colab.research.google.com/assets/colab-badge.svg\" alt=\"Open In Colab\"/></a>"
      ]
    },
    {
      "cell_type": "code",
      "execution_count": 16,
      "metadata": {
        "colab": {
          "base_uri": "https://localhost:8080/"
        },
        "id": "_KZrwnvFsLL0",
        "outputId": "907ec0ee-0a50-4192-8f99-1d4b9050cf38"
      },
      "outputs": [
        {
          "output_type": "stream",
          "name": "stdout",
          "text": [
            "2022-02-28 10:43:25,295 INFO sqlalchemy.engine.Engine BEGIN (implicit)\n",
            "2022-02-28 10:43:25,298 INFO sqlalchemy.engine.Engine PRAGMA main.table_info(\"customers\")\n",
            "2022-02-28 10:43:25,300 INFO sqlalchemy.engine.Engine [raw sql] ()\n",
            "2022-02-28 10:43:25,304 INFO sqlalchemy.engine.Engine PRAGMA temp.table_info(\"customers\")\n",
            "2022-02-28 10:43:25,306 INFO sqlalchemy.engine.Engine [raw sql] ()\n",
            "2022-02-28 10:43:25,310 INFO sqlalchemy.engine.Engine \n",
            "CREATE TABLE customers (\n",
            "\tid INTEGER NOT NULL, \n",
            "\tname VARCHAR, \n",
            "\taddress VARCHAR, \n",
            "\temail VARCHAR, \n",
            "\tPRIMARY KEY (id)\n",
            ")\n",
            "\n",
            "\n",
            "2022-02-28 10:43:25,314 INFO sqlalchemy.engine.Engine [no key 0.00421s] ()\n",
            "2022-02-28 10:43:25,326 INFO sqlalchemy.engine.Engine COMMIT\n"
          ]
        }
      ],
      "source": [
        "from sqlalchemy import Column, Integer, String\n",
        "from sqlalchemy import create_engine\n",
        "engine = create_engine('sqlite:///sales.db', echo = True)\n",
        "from sqlalchemy.ext.declarative import declarative_base\n",
        "Base = declarative_base()\n",
        "\n",
        "class Customers(Base):\n",
        "   __tablename__ = 'customers'\n",
        "   id = Column(Integer, primary_key=True)\n",
        "\n",
        "   name = Column(String)\n",
        "   address = Column(String)\n",
        "   email = Column(String)\n",
        "Base.metadata.create_all(engine)\n",
        "\"\"\"#A class in Declarative must have a __tablename__ attribute, and at least one Column which is part of a primary key. \n",
        "Declarative replaces all the Column objects with special Python accessors known as descriptors. This process is known as instrumentation which \n",
        "provides the means to refer \n",
        "to the table in a SQL context and enables persisting and loading the values of columns from the database.\"\"\"\n",
        "\"\"\"\n",
        "In order to interact with the database, we need to obtain its handle. A session object is the handle to database. Session class is defined using sessionmaker() \n",
        "– a configurable session factory method which is bound to the engine object created earlier.\"\"\"\n",
        "#Each Table object is a member of larger collection known as MetaData and this object is available using the .metadata attribute of declarative base class. The MetaData.create_all() method is, passing in our Engine as a source of database connectivity. For all tables that haven’t been created yet, it issues CREATE TABLE statements to the database.\n",
        "\n",
        "In order to interact with the database, we need to obtain its handle. A session object is the handle to database. Session class is defined using sessionmaker() – a configurable session factory method which is bound to the engine object created earlier.\n",
        "\n",
        "from sqlalchemy.orm import sessionmaker\n",
        "Session = sessionmaker(bind = engine)"
      ]
    }
  ]
}